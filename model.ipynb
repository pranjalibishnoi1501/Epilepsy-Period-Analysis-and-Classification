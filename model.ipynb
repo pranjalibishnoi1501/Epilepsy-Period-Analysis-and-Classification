{
 "cells": [
  {
   "cell_type": "code",
   "execution_count": 101,
   "metadata": {},
   "outputs": [],
   "source": [
    "import numpy as np\n",
    "import scipy.io\n",
    "import torch\n",
    "from torch import nn\n",
    "import torch.optim as optim\n",
    "from torch.utils.data import DataLoader, Dataset\n",
    "import matplotlib.pyplot as plt\n",
    "import torch.nn as nn"
   ]
  },
  {
   "cell_type": "code",
   "execution_count": 2,
   "metadata": {},
   "outputs": [],
   "source": [
    "mat1 = scipy.io.loadmat('ANALYSIS PIPELINE/sis_theta_A_W_uni11_100ms.mat')[\"infected_fraction1\"]\n",
    "mat2 = scipy.io.loadmat('ANALYSIS PIPELINE/sis_theta_A_W_uni12_100ms.mat')[\"infected_fraction2\"]\n",
    "mat3 = scipy.io.loadmat('ANALYSIS PIPELINE/sis_theta_A_W_uni13_100ms.mat')[\"infected_fraction3\"]\n",
    "mat4 = scipy.io.loadmat('ANALYSIS PIPELINE/sis_theta_A_W_uni14_100ms.mat')[\"infected_fraction4\"]\n",
    "mat5 = scipy.io.loadmat('ANALYSIS PIPELINE/sis_theta_A_W_uni15_100ms.mat')[\"infected_fraction5\"]\n",
    "mat6 = scipy.io.loadmat('ANALYSIS PIPELINE/sis_theta_A_W_uni16_100ms.mat')[\"infected_fraction6\"]\n",
    "mat7 = scipy.io.loadmat('ANALYSIS PIPELINE/sis_theta_A_W_uni17_100ms.mat')[\"infected_fraction7\"]\n",
    "mat8 = scipy.io.loadmat('ANALYSIS PIPELINE/sis_theta_A_W_uni18_100ms.mat')[\"infected_fraction8\"]"
   ]
  },
  {
   "cell_type": "code",
   "execution_count": 3,
   "metadata": {},
   "outputs": [
    {
     "data": {
      "text/plain": [
       "(49, 2437)"
      ]
     },
     "execution_count": 3,
     "metadata": {},
     "output_type": "execute_result"
    }
   ],
   "source": [
    "mat1.shape"
   ]
  },
  {
   "cell_type": "code",
   "execution_count": 39,
   "metadata": {},
   "outputs": [
    {
     "data": {
      "text/plain": [
       "27"
      ]
     },
     "execution_count": 39,
     "metadata": {},
     "output_type": "execute_result"
    }
   ],
   "source": [
    "matrices = [mat1,mat2,mat3,mat4,mat5, mat6, mat7, mat8]\n",
    "\n",
    "min_nodes = 1000\n",
    "\n",
    "for mat in matrices:\n",
    "    min_nodes = min(min_nodes, mat.shape[0])\n",
    "\n",
    "min_nodes"
   ]
  },
  {
   "cell_type": "code",
   "execution_count": 40,
   "metadata": {},
   "outputs": [],
   "source": [
    "matrices = [mat[:min_nodes] for mat in matrices]"
   ]
  },
  {
   "cell_type": "code",
   "execution_count": 41,
   "metadata": {},
   "outputs": [],
   "source": [
    "data = []\n",
    "actual = []\n",
    "\n",
    "pre, during, post = [], [], []\n",
    "\n",
    "for mat in matrices:\n",
    "    pre.extend([vector for vector in mat[:,:250].T])\n",
    "    during.extend([vector for vector in mat[:,250:-250].T])\n",
    "    post.extend([vector for vector in mat[:,-250:].T])\n"
   ]
  },
  {
   "cell_type": "code",
   "execution_count": 88,
   "metadata": {},
   "outputs": [
    {
     "data": {
      "text/plain": [
       "((2000, 27), 2000)"
      ]
     },
     "execution_count": 88,
     "metadata": {},
     "output_type": "execute_result"
    }
   ],
   "source": [
    "x = np.array(pre)\n",
    "x.shape, len(pre)"
   ]
  },
  {
   "cell_type": "code",
   "execution_count": 91,
   "metadata": {},
   "outputs": [],
   "source": [
    "data = np.concatenate([np.array(pre), np.array(during), np.array(post)], axis=0)\n",
    "\n",
    "actual = np.zeros(len(data))\n",
    "\n",
    "actual[-len(post):] = 1"
   ]
  },
  {
   "cell_type": "code",
   "execution_count": 92,
   "metadata": {},
   "outputs": [
    {
     "data": {
      "text/plain": [
       "(16549, 27)"
      ]
     },
     "execution_count": 92,
     "metadata": {},
     "output_type": "execute_result"
    }
   ],
   "source": [
    "data.shape"
   ]
  },
  {
   "cell_type": "code",
   "execution_count": 80,
   "metadata": {},
   "outputs": [],
   "source": [
    "from sklearn.cluster import KMeans\n",
    "\n",
    "labels_pred = KMeans(n_clusters=2, random_state=0, n_init=20).fit_predict(data)"
   ]
  },
  {
   "cell_type": "code",
   "execution_count": 81,
   "metadata": {},
   "outputs": [
    {
     "data": {
      "text/plain": [
       "array([0, 1], dtype=int32)"
      ]
     },
     "execution_count": 81,
     "metadata": {},
     "output_type": "execute_result"
    }
   ],
   "source": [
    "np.unique(labels_pred)"
   ]
  },
  {
   "cell_type": "code",
   "execution_count": 82,
   "metadata": {},
   "outputs": [],
   "source": [
    "split1 = len(pre)\n",
    "split2 = len(during)\n",
    "split3 = len(post)\n",
    "\n",
    "labels_pre = labels_pred[:split1]\n",
    "labels_during = labels_pred[split1:split1+split2]\n",
    "labels_post = labels_pred[-split3:]"
   ]
  },
  {
   "cell_type": "code",
   "execution_count": 87,
   "metadata": {},
   "outputs": [
    {
     "data": {
      "image/png": "[encoded data removed]",
      "text/plain": [
       "<Figure size 800x500 with 1 Axes>"
      ]
     },
     "metadata": {},
     "output_type": "display_data"
    }
   ],
   "source": [
    "_, count_pre= np.unique(labels_pre, return_counts=True)\n",
    "_, count_during= np.unique(labels_during, return_counts=True)\n",
    "_, count_post = np.unique(labels_post, return_counts=True)\n",
    "\n",
    "count_pre = count_pre / np.sum(count_pre)\n",
    "count_during = count_during / np.sum(count_during)\n",
    "count_post = count_post / np.sum(count_post)\n",
    "\n",
    "# Labels\n",
    "# labels = ['Label 1', 'Label 2', 'Label 3']\n",
    "labels = ['Cluster 1', 'Cluster 2']\n",
    "\n",
    "# Positions for bars\n",
    "positions = np.arange(len(labels))\n",
    "\n",
    "# Width of each bar\n",
    "width = 0.2\n",
    "\n",
    "# Plot grouped bar chart\n",
    "plt.figure(figsize=(8, 5))\n",
    "\n",
    "plt.bar(positions - width, count_pre, width=width, color='r', label='Pre')\n",
    "plt.bar(positions, count_during, width=width, color='g', label='During')\n",
    "plt.bar(positions + width, count_post, width=width, color='b', label='Post')\n",
    "\n",
    "plt.xlabel('Labels')\n",
    "plt.ylabel('Counts')\n",
    "plt.title('Histogram of Labels')\n",
    "plt.xticks(positions, labels)\n",
    "plt.legend()\n",
    "plt.grid(True)\n",
    "plt.tight_layout()\n",
    "plt.show()\n"
   ]
  },
  {
   "cell_type": "code",
   "execution_count": 108,
   "metadata": {},
   "outputs": [
    {
     "name": "stdout",
     "output_type": "stream",
     "text": [
      "(4000, 27) (4000,)\n"
     ]
    }
   ],
   "source": [
    "selected_rows_pre = np.random.choice(len(pre), size=1000, replace=False)\n",
    "selected_rows_during = np.random.choice(len(during), size=1000, replace=False)\n",
    "\n",
    "indices = np.concatenate((selected_rows_pre, len(pre)+selected_rows_during))\n",
    "\n",
    "data_0 = data[indices]\n",
    "data_1 = data[-len(post):]\n",
    "\n",
    "actual_0 = actual[indices]\n",
    "actual_1 = actual[-len(post):]\n",
    "\n",
    "train_data = np.concatenate((data_0, data_1), axis=0)\n",
    "train_y = np.concatenate((actual_0, actual_1), axis=0)\n",
    "\n",
    "indices = np.arange(len(train_data))\n",
    "np.random.shuffle(indices)\n",
    "\n",
    "train_data = train_data[indices]\n",
    "train_y = train_y[indices]\n",
    "\n",
    "print(train_data.shape, train_y.shape)"
   ]
  },
  {
   "cell_type": "code",
   "execution_count": 115,
   "metadata": {},
   "outputs": [],
   "source": [
    "# Define a simple binary classifier\n",
    "class BinaryClassifier(nn.Module):\n",
    "    def __init__(self, input_dim, hidden_dim = 100):\n",
    "        super(BinaryClassifier, self).__init__()\n",
    "        self.model = nn.Sequential(\n",
    "            nn.Linear(input_dim, hidden_dim),\n",
    "            nn.Linear(hidden_dim, 1)\n",
    "        )\n",
    "        # self.linear = nn.Linear(input_dim, hidden_dim)\n",
    "        self.sigmoid = nn.Sigmoid()\n",
    "\n",
    "    def forward(self, x):\n",
    "        # x = self.linear(x)\n",
    "        x = self.model(x)\n",
    "        x = self.sigmoid(x)\n",
    "        return x\n",
    "\n",
    "# Initialize model, loss, and optimizer\n",
    "input_dim = train_data.shape[1]  # Input dimension\n",
    "model = BinaryClassifier(input_dim)\n",
    "criterion = nn.BCELoss()  # Binary Cross-Entropy Loss\n",
    "optimizer = optim.Adam(model.parameters(), lr=0.001)  # SGD optimizer"
   ]
  },
  {
   "cell_type": "code",
   "execution_count": 116,
   "metadata": {},
   "outputs": [
    {
     "name": "stderr",
     "output_type": "stream",
     "text": [
      "/var/folders/mv/v9mn77wx1qlfmtfw3d4vz3k80000gn/T/ipykernel_94463/2277706040.py:1: UserWarning: To copy construct from a tensor, it is recommended to use sourceTensor.clone().detach() or sourceTensor.clone().detach().requires_grad_(True), rather than torch.tensor(sourceTensor).\n",
      "  train_data = torch.tensor(train_data).float()\n",
      "/var/folders/mv/v9mn77wx1qlfmtfw3d4vz3k80000gn/T/ipykernel_94463/2277706040.py:2: UserWarning: To copy construct from a tensor, it is recommended to use sourceTensor.clone().detach() or sourceTensor.clone().detach().requires_grad_(True), rather than torch.tensor(sourceTensor).\n",
      "  train_y = torch.tensor(train_y).float()\n"
     ]
    }
   ],
   "source": [
    "train_data = torch.tensor(train_data).float()\n",
    "train_y = torch.tensor(train_y).float()"
   ]
  },
  {
   "cell_type": "code",
   "execution_count": 121,
   "metadata": {},
   "outputs": [
    {
     "name": "stdout",
     "output_type": "stream",
     "text": [
      "Epoch [10/100], Loss: 0.6231\n",
      "Epoch [20/100], Loss: 0.6231\n",
      "Epoch [30/100], Loss: 0.6231\n",
      "Epoch [40/100], Loss: 0.6231\n",
      "Epoch [50/100], Loss: 0.6231\n",
      "Epoch [60/100], Loss: 0.6231\n",
      "Epoch [70/100], Loss: 0.6231\n",
      "Epoch [80/100], Loss: 0.6231\n",
      "Epoch [90/100], Loss: 0.6231\n",
      "Epoch [100/100], Loss: 0.6231\n"
     ]
    }
   ],
   "source": [
    "# Training\n",
    "epochs = 100\n",
    "for epoch in range(epochs):\n",
    "    optimizer.zero_grad()  # Zero gradients\n",
    "    outputs = model(train_data)  # Forward pass\n",
    "    loss = criterion(outputs.view(-1), train_y)  # Compute loss\n",
    "    loss.backward()  # Backward pass\n",
    "    optimizer.step()  # Update weights\n",
    "    \n",
    "    if (epoch+1) % 10 == 0:\n",
    "        print(f\"Epoch [{epoch+1}/{epochs}], Loss: {loss.item():.4f}\")"
   ]
  },
  {
   "cell_type": "code",
   "execution_count": 120,
   "metadata": {},
   "outputs": [
    {
     "name": "stdout",
     "output_type": "stream",
     "text": [
      "torch.Size([4000])\n",
      "0.6385\n"
     ]
    }
   ],
   "source": [
    "from sklearn.metrics import accuracy_score\n",
    "with torch.no_grad():\n",
    "    outputs = model(train_data)  # Forward pass\n",
    "    predicted_prob = outputs.squeeze()\n",
    "    predicted = (outputs > 0.5).float().squeeze()\n",
    "    print(predicted.shape)\n",
    "\n",
    "acc = accuracy_score(train_y, predicted)\n",
    "print(acc)"
   ]
  },
  {
   "cell_type": "code",
   "execution_count": null,
   "metadata": {},
   "outputs": [],
   "source": []
  }
 ],
 "metadata": {
  "kernelspec": {
   "display_name": "myenv",
   "language": "python",
   "name": "python3"
  },
  "language_info": {
   "codemirror_mode": {
    "name": "ipython",
    "version": 3
   },
   "file_extension": ".py",
   "mimetype": "text/x-python",
   "name": "python",
   "nbconvert_exporter": "python",
   "pygments_lexer": "ipython3",
   "version": "3.11.5"
  }
 },
 "nbformat": 4,
 "nbformat_minor": 2
}
